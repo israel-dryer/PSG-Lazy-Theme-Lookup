{
 "cells": [
  {
   "cell_type": "markdown",
   "metadata": {},
   "source": [
    "# Lazy Theme Lookup Function for PySimpleGUI\n",
    "demonstration of a potential solution for making theme changes easier"
   ]
  },
  {
   "cell_type": "code",
   "execution_count": 1,
   "metadata": {},
   "outputs": [],
   "source": [
    "import PySimpleGUI as sg"
   ]
  },
  {
   "cell_type": "code",
   "execution_count": 2,
   "metadata": {},
   "outputs": [],
   "source": [
    "def change_look_and_feel(theme):\n",
    "    \"\"\" lazy lookup wrapper for look and feel function \"\"\"\n",
    "    # normalize available l&f values\n",
    "    lf_values = [item.lower() for item in sg.list_of_look_and_feel_values()]\n",
    "\n",
    "    # option 1\n",
    "    opt1 = theme.replace(' ','').lower()\n",
    "    \n",
    "    # option 2 (reverse lookup)\n",
    "    optx = theme.lower().split(' ')\n",
    "    optx.reverse()\n",
    "    opt2 = ''.join(optx)\n",
    "    \n",
    "    # search for valid l&f name\n",
    "    if opt1 in lf_values:\n",
    "        ix = lf_values.index(opt1)\n",
    "        selection = sg.list_of_look_and_feel_values()[ix]\n",
    "        print('You have selected', selection) # replace print with --> sg.change_look_and_feel(selection)\n",
    "    elif opt2 in lf_values:\n",
    "        ix = lf_values.index(opt2)\n",
    "        selection = sg.list_of_look_and_feel_values()[ix]\n",
    "        print('You have selected', selection)  # replace print with --> sg.change_look_and_feel(selection)\n",
    "    else:\n",
    "        print('That is not a valid look and feel selection')\n",
    "        print('The available themes are:')\n",
    "        print(sg.list_of_look_and_feel_values())"
   ]
  },
  {
   "cell_type": "markdown",
   "metadata": {},
   "source": [
    "The current list of available **look and feel** themes"
   ]
  },
  {
   "cell_type": "code",
   "execution_count": 3,
   "metadata": {},
   "outputs": [
    {
     "name": "stdout",
     "output_type": "stream",
     "text": [
      "['SystemDefault', 'Material1', 'Material2', 'Reddit', 'Topanga', 'GreenTan', 'Dark', 'LightGreen', 'Dark2', 'Black', 'Tan', 'TanBlue', 'DarkTanBlue', 'DarkAmber', 'DarkBlue', 'Reds', 'Green', 'BluePurple', 'Purple', 'BlueMono', 'GreenMono', 'BrownBlue', 'BrightColors', 'NeutralBlue', 'Kayak', 'SandyBeach', 'TealMono']\n"
     ]
    }
   ],
   "source": [
    "print(sg.list_of_look_and_feel_values())"
   ]
  },
  {
   "cell_type": "markdown",
   "metadata": {},
   "source": [
    "### search with all **lowercase** letters"
   ]
  },
  {
   "cell_type": "code",
   "execution_count": 4,
   "metadata": {},
   "outputs": [
    {
     "name": "stdout",
     "output_type": "stream",
     "text": [
      "You have selected GreenTan\n"
     ]
    }
   ],
   "source": [
    "change_look_and_feel('greentan')"
   ]
  },
  {
   "cell_type": "markdown",
   "metadata": {},
   "source": [
    "### search with words **separated by spaces**"
   ]
  },
  {
   "cell_type": "code",
   "execution_count": 5,
   "metadata": {},
   "outputs": [
    {
     "name": "stdout",
     "output_type": "stream",
     "text": [
      "You have selected GreenTan\n"
     ]
    }
   ],
   "source": [
    "change_look_and_feel('green tan')"
   ]
  },
  {
   "cell_type": "markdown",
   "metadata": {},
   "source": [
    "### search with words in **reverse order**"
   ]
  },
  {
   "cell_type": "code",
   "execution_count": 6,
   "metadata": {},
   "outputs": [
    {
     "name": "stdout",
     "output_type": "stream",
     "text": [
      "You have selected GreenTan\n"
     ]
    }
   ],
   "source": [
    "change_look_and_feel('tan green')"
   ]
  }
 ],
 "metadata": {
  "kernelspec": {
   "display_name": "Python 3",
   "language": "python",
   "name": "python3"
  },
  "language_info": {
   "codemirror_mode": {
    "name": "ipython",
    "version": 3
   },
   "file_extension": ".py",
   "mimetype": "text/x-python",
   "name": "python",
   "nbconvert_exporter": "python",
   "pygments_lexer": "ipython3",
   "version": "3.7.5"
  }
 },
 "nbformat": 4,
 "nbformat_minor": 4
}
